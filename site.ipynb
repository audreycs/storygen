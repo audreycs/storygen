{
 "cells": [
  {
   "cell_type": "code",
   "execution_count": 1,
   "metadata": {},
   "outputs": [
    {
     "data": {
      "application/vnd.jupyter.widget-view+json": {
       "model_id": "d15b39a52d2c4a9a8e31d0b875b4f02b",
       "version_major": 2,
       "version_minor": 0
      },
      "text/plain": [
       "interactive(children=(FloatSlider(value=0.3, description='alpha', max=1.0, min=-1.0, step=0.05), Output()), _d…"
      ]
     },
     "metadata": {},
     "output_type": "display_data"
    },
    {
     "data": {
      "application/vnd.jupyter.widget-view+json": {
       "model_id": "ecd43987dab640969f77014f7b404d65",
       "version_major": 2,
       "version_minor": 0
      },
      "text/plain": [
       "interactive(children=(FloatSlider(value=0.8, description='beta', max=1.0, min=-1.0, step=0.05), Output()), _do…"
      ]
     },
     "metadata": {},
     "output_type": "display_data"
    },
    {
     "data": {
      "application/vnd.jupyter.widget-view+json": {
       "model_id": "eb00a6f32a12409d95cf0036e17fda0d",
       "version_major": 2,
       "version_minor": 0
      },
      "text/plain": [
       "interactive(children=(FloatSlider(value=0.5, description='freq_penalty', max=1.0, min=-1.0, step=0.05), Output…"
      ]
     },
     "metadata": {},
     "output_type": "display_data"
    },
    {
     "data": {
      "application/vnd.jupyter.widget-view+json": {
       "model_id": "473519b613c9434bb71dc5bbda23d2a7",
       "version_major": 2,
       "version_minor": 0
      },
      "text/plain": [
       "Text(value='', description='keywords:', layout=Layout(width='15cm'), placeholder='')"
      ]
     },
     "metadata": {},
     "output_type": "display_data"
    },
    {
     "data": {
      "application/vnd.jupyter.widget-view+json": {
       "model_id": "f0d23f9a79e04bc088ee114e764ed80c",
       "version_major": 2,
       "version_minor": 0
      },
      "text/plain": [
       "Button(description='Run!', style=ButtonStyle(button_color='lightgreen'))"
      ]
     },
     "metadata": {},
     "output_type": "display_data"
    },
    {
     "name": "stdout",
     "output_type": "stream",
     "text": [
      "prompt words: ['cloudy', 'meteorology']\n",
      "Hub nodes num: 2, Total nodes num: 26\n",
      "hub words: ['cats', 'voice']\n",
      "\n",
      "calculating distance to hub \"cats\"\n",
      "calculating distance to hub \"voice\"\n",
      "-----drawing network-----\n",
      "promt_sentence: The meteorology report said that the clouds would move out by noon.\n"
     ]
    },
    {
     "data": {
      "application/vnd.jupyter.widget-view+json": {
       "model_id": "fc27f562b97449fb81ff3eaeb1a0e4c6",
       "version_major": 2,
       "version_minor": 0
      },
      "text/plain": [
       "HBox(children=(Output(layout=Layout(border='1px solid black', height='400px', width='40%')), Output(layout=Lay…"
      ]
     },
     "metadata": {},
     "output_type": "display_data"
    },
    {
     "data": {
      "image/png": "[encoded data removed]",
      "text/plain": [
       "<Figure size 640x480 with 1 Axes>"
      ]
     },
     "metadata": {},
     "output_type": "display_data"
    }
   ],
   "source": [
    "from ipywidgets import interact, interactive, fixed, Text, Layout, Button, Output, HBox, VBox, FloatSlider\n",
    "from IPython.display import display\n",
    "from prompt import *\n",
    "from local_kg import *\n",
    "import argparse\n",
    "from datetime import datetime\n",
    "import sys\n",
    "import logging\n",
    "\n",
    "alpha_ =0.3\n",
    "beta_ =0.8\n",
    "freq_pen = 0.5\n",
    "\n",
    "def set_alpha(alpha):\n",
    "    alpha_ = alpha\n",
    "\n",
    "def set_beta(beta):\n",
    "    beta_ = beta\n",
    "    \n",
    "def set_freq_pen(freq_penalty):\n",
    "    freq_pen = freq_penalty\n",
    "\n",
    "interact(set_alpha, alpha=FloatSlider(min=-1.0, max=1.0, step=0.05, value=0.3))\n",
    "interact(set_beta, beta=FloatSlider(min=-1.0, max=1.0, step=0.05, value=0.8))\n",
    "interact(set_freq_pen, freq_penalty=FloatSlider(min=-1.0, max=1.0, step=0.05, value=0.5))\n",
    "\n",
    "inp = Text(placeholder='', description='keywords:', layout = Layout(width='15cm'))\n",
    "button = Button(description='Run!')\n",
    "button.style.button_color = 'lightgreen'\n",
    "display(inp)\n",
    "display(button)\n",
    "\n",
    "if not os.path.isdir('logs/'):\n",
    "    os.mkdir('logs/')\n",
    "filename = datetime.now().strftime('log_%Y%m%d_%H_%M.log')\n",
    "\n",
    "logFormatter = logging.Formatter(\"%(levelname)s-%(asctime)s  %(message)s\")\n",
    "logger = logging.getLogger(\"requests\")\n",
    "logger.setLevel(logging.INFO)\n",
    "\n",
    "# fileHandler = logging.FileHandler('logs/'+filename)\n",
    "# fileHandler.setFormatter(logFormatter)\n",
    "# rootLogger.addHandler(fileHandler)\n",
    "\n",
    "consoleHandler = logging.StreamHandler(sys.stdout)\n",
    "consoleHandler.setFormatter(logging.Formatter(\"\"))\n",
    "logger.addHandler(consoleHandler)\n",
    "\n",
    "def onchange(b):\n",
    "    kw_list = str(inp.value).strip().split(',')\n",
    "\n",
    "    promt_sentence = promptGeneration(logger, kw_list)\n",
    "\n",
    "    path, hubs, stem_to_words, nei_to_hub = build_kg(kw_list=kw_list)\n",
    "    final_score = calculate_score(logger, path, hubs, stem_to_words, nei_to_hub, alpha_)\n",
    "\n",
    "    story = gpt3_generation(logger, promt_sentence, final_score, stem_to_words, beta_, freq_pen)\n",
    "    \n",
    "    logger.info(f\"promt_sentence: {promt_sentence}\")\n",
    "    \n",
    "    box_layout= {\n",
    "            'width': '40%',\n",
    "            'height': '400px',\n",
    "            'border': '1px solid black'\n",
    "        }\n",
    "    \n",
    "    text1 = Output(layout=box_layout)\n",
    "    text2 = Output(layout=box_layout)\n",
    "    box = HBox([text1, text2])\n",
    "    \n",
    "    display(box)\n",
    "    with text1:\n",
    "        print(story)\n",
    "\n",
    "    gpt3_story = original_gpt3(logger, kw_list)\n",
    "    \n",
    "    with text2:\n",
    "        print(gpt3_story)\n",
    "\n",
    "button.on_click(onchange)"
   ]
  },
  {
   "cell_type": "code",
   "execution_count": null,
   "metadata": {},
   "outputs": [],
   "source": []
  }
 ],
 "metadata": {
  "kernelspec": {
   "display_name": "Python 3 (ipykernel)",
   "language": "python",
   "name": "python3"
  },
  "language_info": {
   "codemirror_mode": {
    "name": "ipython",
    "version": 3
   },
   "file_extension": ".py",
   "mimetype": "text/x-python",
   "name": "python",
   "nbconvert_exporter": "python",
   "pygments_lexer": "ipython3",
   "version": "3.10.6"
  },
  "vscode": {
   "interpreter": {
    "hash": "31f2aee4e71d21fbe5cf8b01ff0e069b9275f58929596ceb00d14d90e3e16cd6"
   }
  }
 },
 "nbformat": 4,
 "nbformat_minor": 2
}
