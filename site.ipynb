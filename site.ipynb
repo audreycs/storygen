{
 "cells": [
  {
   "cell_type": "code",
   "execution_count": null,
   "metadata": {},
   "outputs": [],
   "source": [
    "import ipywidgets as widgets\n",
    "from IPython.display import display\n",
    "        \n",
    "sub = widgets.Text(placeholder='example', description='text:')\n",
    "button = widgets.Button(\n",
    "    description='Run!',\n",
    "    layout={'width': '300px'}\n",
    ")\n",
    "\n",
    "def onchange(b):\n",
    "    print(sub.value)\n",
    "\n",
    "display(sub, button)\n",
    "button.on_click(onchange)"
   ]
  }
 ],
 "metadata": {
  "kernelspec": {
   "display_name": "Python 3.8.2 64-bit",
   "language": "python",
   "name": "python3"
  },
  "language_info": {
   "name": "python",
   "version": "3.8.2"
  },
  "orig_nbformat": 4,
  "vscode": {
   "interpreter": {
    "hash": "31f2aee4e71d21fbe5cf8b01ff0e069b9275f58929596ceb00d14d90e3e16cd6"
   }
  }
 },
 "nbformat": 4,
 "nbformat_minor": 2
}
