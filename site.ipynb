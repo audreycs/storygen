{
 "cells": [
  {
   "cell_type": "code",
   "execution_count": 1,
   "metadata": {},
   "outputs": [
    {
     "ename": "ModuleNotFoundError",
     "evalue": "No module named 'ipywidgets'",
     "output_type": "error",
     "traceback": [
      "\u001b[0;31m---------------------------------------------------------------------------\u001b[0m",
      "\u001b[0;31mModuleNotFoundError\u001b[0m                       Traceback (most recent call last)",
      "\u001b[0;32m<ipython-input-1-600a5667f411>\u001b[0m in \u001b[0;36m<module>\u001b[0;34m\u001b[0m\n\u001b[0;32m----> 1\u001b[0;31m \u001b[0;32mimport\u001b[0m \u001b[0mipywidgets\u001b[0m \u001b[0;32mas\u001b[0m \u001b[0mwidgets\u001b[0m\u001b[0;34m\u001b[0m\u001b[0;34m\u001b[0m\u001b[0m\n\u001b[0m\u001b[1;32m      2\u001b[0m \u001b[0;32mfrom\u001b[0m \u001b[0mIPython\u001b[0m\u001b[0;34m.\u001b[0m\u001b[0mdisplay\u001b[0m \u001b[0;32mimport\u001b[0m \u001b[0mdisplay\u001b[0m\u001b[0;34m\u001b[0m\u001b[0;34m\u001b[0m\u001b[0m\n\u001b[1;32m      3\u001b[0m \u001b[0;34m\u001b[0m\u001b[0m\n\u001b[1;32m      4\u001b[0m \u001b[0msub\u001b[0m \u001b[0;34m=\u001b[0m \u001b[0mwidgets\u001b[0m\u001b[0;34m.\u001b[0m\u001b[0mText\u001b[0m\u001b[0;34m(\u001b[0m\u001b[0mplaceholder\u001b[0m\u001b[0;34m=\u001b[0m\u001b[0;34m'example'\u001b[0m\u001b[0;34m,\u001b[0m \u001b[0mdescription\u001b[0m\u001b[0;34m=\u001b[0m\u001b[0;34m'text:'\u001b[0m\u001b[0;34m)\u001b[0m\u001b[0;34m\u001b[0m\u001b[0;34m\u001b[0m\u001b[0m\n\u001b[1;32m      5\u001b[0m button = widgets.Button(\n",
      "\u001b[0;31mModuleNotFoundError\u001b[0m: No module named 'ipywidgets'"
     ]
    }
   ],
   "source": [
    "import ipywidgets as widgets\n",
    "from IPython.display import display\n",
    "from prompt import *\n",
    "from local_kg import *\n",
    "import argparse\n",
    "from datetime import datetime\n",
    "import sys\n",
    "import logging\n",
    "\n",
    "inp = widgets.Text(placeholder='', description='keywords:')\n",
    "button = widgets.Button(description='Run!')\n",
    "display(inp, button)\n",
    "\n",
    "def set_logs():\n",
    "    if not os.path.isdir('logs/'):\n",
    "        os.mkdir('logs/')\n",
    "    filename = datetime.now().strftime('log_%Y%m%d_%H_%M.log')\n",
    "\n",
    "    logFormatter = logging.Formatter(\"%(levelname)s-%(asctime)s  %(message)s\")\n",
    "    rootLogger = logging.getLogger(\"requests\")\n",
    "    rootLogger.setLevel(logging.INFO)\n",
    "\n",
    "    fileHandler = logging.FileHandler('logs/'+filename)\n",
    "    fileHandler.setFormatter(logFormatter)\n",
    "    rootLogger.addHandler(fileHandler)\n",
    "\n",
    "    consoleHandler = logging.StreamHandler(sys.stdout)\n",
    "    consoleHandler.setFormatter(logging.Formatter(\"\"))\n",
    "    rootLogger.addHandler(consoleHandler)\n",
    "    return rootLogger\n",
    "\n",
    "\n",
    "def onchange(b):\n",
    "    # dataLoader = DataLoader()\n",
    "    # dataLoader.readfile(args.data_dir)\n",
    "    # kw_list = dataLoader.keyword_list[0]\n",
    "\n",
    "    kw_list = str(inp.value).strip().split(',')\n",
    "\n",
    "    promt_sentence = promptGeneration(logger, args, kw_list)\n",
    "\n",
    "    path, hubs, stem_to_words, nei_to_hub = build_kg(kw_list=kw_list)\n",
    "    final_score = calculate_score(logger, args, path, hubs, stem_to_words, nei_to_hub)\n",
    "\n",
    "    story = gpt3_generation(logger, args, promt_sentence, final_score, stem_to_words)\n",
    "\n",
    "    logger.info(\"-----Story-----\")\n",
    "    logger.info(f\"promt_sentence: {promt_sentence}\")\n",
    "    logger.info(story)\n",
    "\n",
    "    gpt3_story = original_gpt3(logger, args, kw_list)\n",
    "\n",
    "    logger.info(\"-----Original GPT-3 Story-----\")\n",
    "    logger.info(gpt3_story)\n",
    "\n",
    "\n",
    "logger = set_logs()\n",
    "\n",
    "# parser = argparse.ArgumentParser()\n",
    "# parser.add_argument('--data_dir', type=str, default=\"./data\")\n",
    "# parser.add_argument('--prompt_model', type=str, default=\"curie\")\n",
    "# parser.add_argument('--model', type=str, default=\"curie\")\n",
    "# parser.add_argument('--alpha', type=float, default=0.3)  # importance of other hub nodes\n",
    "# parser.add_argument('--beta', type=float, default=0.8)   # importance of relevant words\n",
    "# parser.add_argument('--freq_pen', type=float, default=0.6)\n",
    "# parser.add_argument('--ps_pen', type=float, default=0.0)\n",
    "# parser.add_argument('--temp', type=float, default=0)\n",
    "# parser.add_argument('--top_p', type=float, default=1)\n",
    "# args = parser.parse_args()\n",
    "\n",
    "args=dict()\n",
    "args['alpha'] = 0.3\n",
    "\n",
    "\n",
    "button.on_click(onchange)"
   ]
  }
 ],
 "metadata": {
  "kernelspec": {
   "display_name": "Python 3.8.2 64-bit",
   "language": "python",
   "name": "python3"
  },
  "language_info": {
   "codemirror_mode": {
    "name": "ipython",
    "version": 3
   },
   "file_extension": ".py",
   "mimetype": "text/x-python",
   "name": "python",
   "nbconvert_exporter": "python",
   "pygments_lexer": "ipython3",
   "version": "3.8.2"
  },
  "orig_nbformat": 4,
  "vscode": {
   "interpreter": {
    "hash": "31f2aee4e71d21fbe5cf8b01ff0e069b9275f58929596ceb00d14d90e3e16cd6"
   }
  }
 },
 "nbformat": 4,
 "nbformat_minor": 2
}
