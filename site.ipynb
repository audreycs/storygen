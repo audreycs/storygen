{
 "cells": [
  {
   "cell_type": "code",
   "execution_count": 1,
   "metadata": {
    "scrolled": false
   },
   "outputs": [
    {
     "data": {
      "application/vnd.jupyter.widget-view+json": {
       "model_id": "f36f21a10e5945e191d2999265cb1440",
       "version_major": 2,
       "version_minor": 0
      },
      "text/plain": [
       "HBox(children=(VBox(children=(interactive(children=(FloatSlider(value=0.3, description='alpha', max=1.0, step=…"
      ]
     },
     "metadata": {},
     "output_type": "display_data"
    },
    {
     "data": {
      "application/vnd.jupyter.widget-view+json": {
       "model_id": "3877f9f28b0946b096b83bee1eca2bc8",
       "version_major": 2,
       "version_minor": 0
      },
      "text/plain": [
       "HBox(children=(Text(value='', description='Keywords:', layout=Layout(width='18cm'), placeholder='a dark house,…"
      ]
     },
     "metadata": {},
     "output_type": "display_data"
    },
    {
     "data": {
      "application/vnd.jupyter.widget-view+json": {
       "model_id": "b2c2b043e6ef44d39cf11b9f5e49bde5",
       "version_major": 2,
       "version_minor": 0
      },
      "text/plain": [
       "Output(layout=Layout(border='1px solid black', height='300px', margin='10px 50px 10px 50px', overflow='hidden …"
      ]
     },
     "metadata": {},
     "output_type": "display_data"
    },
    {
     "data": {
      "application/vnd.jupyter.widget-view+json": {
       "model_id": "3fbafb2267c94225bb9cc6552b9a3d73",
       "version_major": 2,
       "version_minor": 0
      },
      "text/plain": [
       "HBox(children=(VBox(children=(Box(children=(Label(value='Steered Story'),), layout=Layout(margin='10px 25px 0p…"
      ]
     },
     "metadata": {},
     "output_type": "display_data"
    },
    {
     "data": {
      "application/vnd.jupyter.widget-view+json": {
       "model_id": "83df900a7cd14582b367c5a72fbdb1f0",
       "version_major": 2,
       "version_minor": 0
      },
      "text/plain": [
       "VBox(children=(Box(children=(Label(value='Generated Keywords Knowledge Graph:'),), layout=Layout(margin='15px …"
      ]
     },
     "metadata": {},
     "output_type": "display_data"
    }
   ],
   "source": [
    "from ipywidgets import FloatSlider, Image, fixed, interactive\n",
    "from IPython.display import display\n",
    "from prompt import *\n",
    "from local_kg import *\n",
    "from config import init_configures\n",
    "from utils import *\n",
    "\n",
    "alpha_, beta_, freq_pen, hub_bias, prompt_model, story_model = init_configures()\n",
    "\n",
    "inte1 = interactive(set_alpha, alpha=FloatSlider(min=0.0, max=1.0, step=0.05, value=alpha_[0]), alpha_=fixed(alpha_))\n",
    "inte2 = interactive(set_beta, beta=FloatSlider(min=0.0, max=50.0, step=0.1, value=beta_[0]), beta_=fixed(beta_))\n",
    "inte3 = interactive(set_freq_pen, freq_penalty=FloatSlider(min=0.0, max=2.0, step=0.05, value=freq_pen[0]), freq_pen=fixed(freq_pen))\n",
    "inte4 = interactive(set_hub_word_bias, hub_word_bias=FloatSlider(min=1.0, max=30.0, step=1.0, value=hub_bias[0]), hub_bias=fixed(hub_bias))\n",
    "\n",
    "prompt_button, story_button = set_models(prompt_model, story_model)\n",
    "display(HBox([VBox([inte1, inte2, inte3, inte4]), prompt_button, story_button]))\n",
    "\n",
    "input_box, inp, button = set_input_bar()\n",
    "display(input_box)\n",
    "\n",
    "widgetsHandler, logger = set_logging()\n",
    "widgetsHandler.show_logs()\n",
    "\n",
    "outputBoxes, box1, box2 = set_outputBox()\n",
    "display(outputBoxes)\n",
    "\n",
    "imageBoxes, imageOutPut = set_imageBox()\n",
    "display(imageBoxes)\n",
    "\n",
    "def onchange(b):\n",
    "    widgetsHandler.clear_logs()\n",
    "    box1.clear_output()\n",
    "    box2.clear_output()\n",
    "    imageOutPut.clear_output()\n",
    "\n",
    "    show_parameters(logger, alpha_[0], beta_[0], freq_pen[0], prompt_model[0], story_model[0], hub_bias[0])\n",
    "\n",
    "    kw_list, promt_sentence = promptGeneration(logger, inp.value, prompt_model[0])\n",
    "\n",
    "    path, hubs, stem_to_words, nei_to_hub = build_kg(kw_list=kw_list)\n",
    "    final_score = calculate_score(logger, path, hubs, stem_to_words, nei_to_hub, alpha_[0])\n",
    "    logger.info(f\"promt_sentence: \\x1b[32;1m{promt_sentence}\\x1b[0m\")\n",
    "    story = gpt3_generation(logger, kw_list, promt_sentence, final_score, stem_to_words, beta_[0], freq_pen[0], story_model[0], hub_bias[0])\n",
    "    with box1:\n",
    "        print(story)\n",
    "    gpt3_story = original_gpt3(logger, kw_list, story_model[0])\n",
    "    with box2:\n",
    "        print(gpt3_story)\n",
    "    \n",
    "    logger.info(\"[drawing keywords graph]\")\n",
    "    with imageOutPut:\n",
    "        with open(\"local_kgs/kg.png\", \"rb\") as file:\n",
    "            image = file.read()\n",
    "        display(Image(value=image,\n",
    "                    format='png',\n",
    "                    layout={'width': '20cm',\n",
    "                            'object_position': 'top'}))\n",
    "    logger.info(\"\\n\")\n",
    "\n",
    "button.on_click(onchange)"
   ]
  }
 ],
 "metadata": {
  "kernelspec": {
   "display_name": "Python 3 (ipykernel)",
   "language": "python",
   "name": "python3"
  },
  "language_info": {
   "codemirror_mode": {
    "name": "ipython",
    "version": 3
   },
   "file_extension": ".py",
   "mimetype": "text/x-python",
   "name": "python",
   "nbconvert_exporter": "python",
   "pygments_lexer": "ipython3",
   "version": "3.9.15"
  },
  "vscode": {
   "interpreter": {
    "hash": "767d51c1340bd893661ea55ea3124f6de3c7a262a8b4abca0554b478b1e2ff90"
   }
  }
 },
 "nbformat": 4,
 "nbformat_minor": 2
}
