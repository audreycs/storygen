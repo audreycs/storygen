{
 "cells": [
  {
   "cell_type": "code",
   "execution_count": 1,
   "metadata": {
    "scrolled": false
   },
   "outputs": [
    {
     "data": {
      "application/vnd.jupyter.widget-view+json": {
       "model_id": "3155326267b4495bb20d1bb2ac5bf413",
       "version_major": 2,
       "version_minor": 0
      },
      "text/plain": [
       "HBox(children=(VBox(children=(interactive(children=(FloatSlider(value=0.3, description='alpha', max=1.0, min=-…"
      ]
     },
     "metadata": {},
     "output_type": "display_data"
    },
    {
     "data": {
      "application/vnd.jupyter.widget-view+json": {
       "model_id": "ed1e1a80c88b42b594903d6de8456127",
       "version_major": 2,
       "version_minor": 0
      },
      "text/plain": [
       "HBox(children=(Text(value='', description='Keywords:', layout=Layout(width='18cm'), placeholder='a big house, …"
      ]
     },
     "metadata": {},
     "output_type": "display_data"
    },
    {
     "data": {
      "application/vnd.jupyter.widget-view+json": {
       "model_id": "729a7c7a22ef413795bb995efc9352a9",
       "version_major": 2,
       "version_minor": 0
      },
      "text/plain": [
       "Output(layout=Layout(border='1px solid black', height='300px', margin='10px 50px 10px 50px', overflow='hidden …"
      ]
     },
     "metadata": {},
     "output_type": "display_data"
    },
    {
     "data": {
      "application/vnd.jupyter.widget-view+json": {
       "model_id": "c919744a526047448e60a81e3b06edd9",
       "version_major": 2,
       "version_minor": 0
      },
      "text/plain": [
       "HBox(children=(VBox(children=(Box(children=(Label(value='Steered Story'),), layout=Layout(margin='10px 25px 0p…"
      ]
     },
     "metadata": {},
     "output_type": "display_data"
    },
    {
     "data": {
      "application/vnd.jupyter.widget-view+json": {
       "model_id": "7668055fd44848dcaa7f1d418c0a18f6",
       "version_major": 2,
       "version_minor": 0
      },
      "text/plain": [
       "VBox(children=(Box(children=(Label(value='Generated Keywords Knowledge Graph:'),), layout=Layout(margin='15px …"
      ]
     },
     "metadata": {},
     "output_type": "display_data"
    }
   ],
   "source": [
    "from ipywidgets import interact, Text, Layout, Button, FloatSlider, Image, fixed, interactive\n",
    "from IPython.display import display\n",
    "from prompt import *\n",
    "from local_kg import *\n",
    "import argparse\n",
    "from utils import *\n",
    "\n",
    "alpha_ = [0.3]\n",
    "beta_ = [0.8]\n",
    "freq_pen = [0.5]\n",
    "prompt_model = ['text-curie-001']\n",
    "story_model = ['text-curie-001']\n",
    "\n",
    "inte1 = interactive(set_alpha, alpha=FloatSlider(min=-1.0, max=1.0, step=0.05, value=0.3), alpha_=fixed(alpha_))\n",
    "inte2 = interactive(set_beta, beta=FloatSlider(min=-1.0, max=1.0, step=0.05, value=0.8), beta_=fixed(beta_))\n",
    "inte3 = interactive(set_freq_pen, freq_penalty=FloatSlider(min=-1.0, max=1.0, step=0.05, value=0.5), freq_pen=fixed(freq_pen))\n",
    "\n",
    "prompt_button, story_button = set_models(prompt_model, story_model)\n",
    "display(HBox([VBox([inte1, inte2, inte3]), prompt_button, story_button]))\n",
    "\n",
    "input_box, inp, button = set_input_bar()\n",
    "display(input_box)\n",
    "\n",
    "widgetsHandler, logger = set_logging()\n",
    "widgetsHandler.show_logs()\n",
    "\n",
    "outputBoxes, box1, box2 = set_outputBox()\n",
    "display(outputBoxes)\n",
    "\n",
    "imageBoxes, imageOutPut = set_imageBox()\n",
    "display(imageBoxes)\n",
    "\n",
    "def onchange(b):\n",
    "    widgetsHandler.clear_logs()\n",
    "    box1.clear_output()\n",
    "    box2.clear_output()\n",
    "    imageOutPut.clear_output()\n",
    "\n",
    "    show_parameters(logger, alpha_[0], beta_[0], freq_pen[0], prompt_model[0], story_model[0])\n",
    "\n",
    "    kw_list = str(inp.value).strip().split(',')\n",
    "    promt_sentence = promptGeneration(logger, kw_list, prompt_model[0])\n",
    "\n",
    "    path, hubs, stem_to_words, nei_to_hub = build_kg(kw_list=kw_list)\n",
    "    final_score = calculate_score(logger, path, hubs, stem_to_words, nei_to_hub, alpha_[0])\n",
    "    logger.info(f\"promt_sentence: \\x1b[32;1m{promt_sentence}\\x1b[0m\")\n",
    "    story = gpt3_generation(logger, promt_sentence, final_score, stem_to_words, beta_[0], freq_pen[0], story_model[0])\n",
    "    with box1:\n",
    "        print(story)\n",
    "    gpt3_story = original_gpt3(logger, kw_list, story_model[0])\n",
    "    with box2:\n",
    "        print(gpt3_story)\n",
    "    \n",
    "    logger.info(\"[drawing keywords graph]\")\n",
    "    with imageOutPut:\n",
    "        with open(\"local_kgs/kg.png\", \"rb\") as file:\n",
    "            image = file.read()\n",
    "        display(Image(value=image,\n",
    "                    format='png',\n",
    "                    layout={'width': '20cm',\n",
    "                            'object_position': 'top'}))\n",
    "    logger.info(\"\\n\")\n",
    "\n",
    "button.on_click(onchange)"
   ]
  },
  {
   "cell_type": "code",
   "execution_count": null,
   "metadata": {},
   "outputs": [],
   "source": []
  }
 ],
 "metadata": {
  "kernelspec": {
   "display_name": "Python 3 (ipykernel)",
   "language": "python",
   "name": "python3"
  },
  "language_info": {
   "codemirror_mode": {
    "name": "ipython",
    "version": 3
   },
   "file_extension": ".py",
   "mimetype": "text/x-python",
   "name": "python",
   "nbconvert_exporter": "python",
   "pygments_lexer": "ipython3",
   "version": "3.10.6"
  },
  "vscode": {
   "interpreter": {
    "hash": "767d51c1340bd893661ea55ea3124f6de3c7a262a8b4abca0554b478b1e2ff90"
   }
  }
 },
 "nbformat": 4,
 "nbformat_minor": 2
}
